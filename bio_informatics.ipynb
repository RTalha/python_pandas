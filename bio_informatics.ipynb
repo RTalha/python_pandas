{
 "cells": [
  {
   "cell_type": "code",
   "execution_count": 2,
   "metadata": {},
   "outputs": [
    {
     "name": "stdout",
     "output_type": "stream",
     "text": [
      "j:  ['ATGGTSATACTACATAGCTGACAAACA', 'GTAGCSATAAATCGGTCGAATCTCGA', 'CATATGGTCACATGATCGGT', 'CGTGTTTCAA', 'TTGCGCCTAG\\n']\n",
      "LIST:  [['ATGGT', 'CTACATAGCTGACAAACA'], ['GTAGC', 'AATCGGTCGAATCTCGA'], ['CATATGGTCACATGATCGGT'], ['CGTGTTTCAA'], ['TTGCGCCTAG\\n']]\n",
      "lst:  ['ATGGT', 'CTACATAGCTGACAAACA', 'GTAGC', 'AATCGGTCGAATCTCGA', 'CATATGGTCACATGATCGGT', 'CGTGTTTCAA', 'TTGCGCCTAG\\n']\n"
     ]
    }
   ],
   "source": [
    "f = open('/home/talha/Documents/tarfile.txt')\n",
    "for W in f:\n",
    "    seq=W\n",
    "    \n",
    "f.close()\n",
    "LIST=[]\n",
    "\n",
    "j=seq.split(\"TATA\")\n",
    "print \"j: \", j\n",
    "for i in j:\n",
    "    K=i.split(\"SATA\")\n",
    "    LIST.append(K)\n",
    "    \n",
    "lst = []\n",
    "print \"LIST: \", LIST\n",
    "\n",
    "\n",
    "for i in LIST:\n",
    "    for r in i:\n",
    "        lst.append(r)\n",
    "print 'lst: ', lst\n",
    "\n",
    "\n",
    "\n"
   ]
  },
  {
   "cell_type": "code",
   "execution_count": 19,
   "metadata": {},
   "outputs": [
    {
     "name": "stdout",
     "output_type": "stream",
     "text": [
      "()\n",
      "(1,)\n",
      "(2,)\n",
      "(3,)\n",
      "(1, 2)\n",
      "(1, 3)\n",
      "(2, 3)\n",
      "(1, 2, 3)\n"
     ]
    }
   ],
   "source": [
    "import itertools\n",
    "\n",
    "stuff = [1, 2, 3]\n",
    "for L in range(0, len(stuff)+1):\n",
    "    for subset in itertools.combinations(stuff, L):\n",
    "        print(subset)"
   ]
  },
  {
   "cell_type": "code",
   "execution_count": 20,
   "metadata": {},
   "outputs": [
    {
     "name": "stdout",
     "output_type": "stream",
     "text": [
      "()\n",
      "(1,)\n",
      "(2,)\n",
      "(3,)\n",
      "(1, 2)\n",
      "(1, 3)\n",
      "(2, 3)\n",
      "(1, 2, 3)\n"
     ]
    }
   ],
   "source": [
    "from itertools import chain, combinations\n",
    "def all_subsets(ss):\n",
    "    return chain(*map(lambda x: combinations(ss, x), range(0, len(ss)+1)))\n",
    "\n",
    "for subset in all_subsets(stuff):\n",
    "    print(subset)"
   ]
  },
  {
   "cell_type": "code",
   "execution_count": 29,
   "metadata": {},
   "outputs": [
    {
     "ename": "IndexError",
     "evalue": "list index out of range",
     "output_type": "error",
     "traceback": [
      "\u001b[0;31m---------------------------------------------------------------------------\u001b[0m",
      "\u001b[0;31mIndexError\u001b[0m                                Traceback (most recent call last)",
      "\u001b[0;32m<ipython-input-29-aa2f7bb917be>\u001b[0m in \u001b[0;36m<module>\u001b[0;34m()\u001b[0m\n\u001b[1;32m     31\u001b[0m \u001b[0;34m\u001b[0m\u001b[0m\n\u001b[1;32m     32\u001b[0m \u001b[0mf\u001b[0m\u001b[0;34m.\u001b[0m\u001b[0mclose\u001b[0m\u001b[0;34m(\u001b[0m\u001b[0;34m)\u001b[0m\u001b[0;34m\u001b[0m\u001b[0m\n\u001b[0;32m---> 33\u001b[0;31m \u001b[0mchain\u001b[0m \u001b[0;34m=\u001b[0m \u001b[0mlines\u001b[0m\u001b[0;34m[\u001b[0m\u001b[0;36m1\u001b[0m\u001b[0;34m]\u001b[0m\u001b[0;34m\u001b[0m\u001b[0m\n\u001b[0m\u001b[1;32m     34\u001b[0m \u001b[0mlines\u001b[0m \u001b[0;34m=\u001b[0m \u001b[0mlines\u001b[0m\u001b[0;34m[\u001b[0m\u001b[0;36m1\u001b[0m\u001b[0;34m:\u001b[0m\u001b[0;34m]\u001b[0m\u001b[0;34m\u001b[0m\u001b[0m\n\u001b[1;32m     35\u001b[0m \u001b[0mlast_start\u001b[0m\u001b[0;34m=\u001b[0m\u001b[0;36m0\u001b[0m\u001b[0;34m\u001b[0m\u001b[0m\n",
      "\u001b[0;31mIndexError\u001b[0m: list index out of range"
     ]
    }
   ],
   "source": [
    "from Bio import SeqIO\n",
    "\n",
    "\n",
    "\n",
    "def translate_dna(sequence):\n",
    "    gencode = { 'ATA':'I',\n",
    "    'ATC':'I', 'ATT':'I', 'ATG':'M', 'ACA':'T', 'ACC':'T', 'ACG':'T',\n",
    "    'ACT':'T', 'AAC':'N', 'AAT':'N', 'AAA':'K', 'AAG':'K', 'AGC':'S',\n",
    "    'AGT':'S', 'AGA':'R', 'AGG':'R', 'CTA':'L', 'CTC':'L', 'CTG':'L',\n",
    "    'CTT':'L', 'CCA':'P', 'CCC':'P', 'CCG':'P', 'CCT':'P', 'CAC':'H',\n",
    "    'CAT':'H', 'CAA':'Q', 'CAG':'Q', 'CGA':'R', 'CGC':'R', 'CGG':'R',\n",
    "    'CGT':'R', 'GTA':'V', 'GTC':'V', 'GTG':'V', 'GTT':'V', 'GCA':'A',\n",
    "    'GCC':'A', 'GCG':'A', 'GCT':'A', 'GAC':'D', 'GAT':'D', 'GAA':'E',\n",
    "    'GAG':'E', 'GGA':'G', 'GGC':'G', 'GGG':'G', 'GGT':'G', 'TCA':'S',\n",
    "    'TCC':'S', 'TCG':'S', 'TCT':'S', 'TTC':'F', 'TTT':'F', 'TTA':'L',\n",
    "    'TTG':'L', 'TAC':'Y', 'TAT':'Y', 'TAA':'', 'TAG':'', 'TGC':'C',\n",
    "    'TGT':'C', 'TGA':'', 'TGG':'W', }\n",
    "    #print sequence\n",
    "    proteinseq = ''\n",
    "\n",
    "    for n in range(0,len(sequence),3):\n",
    "        if gencode.has_key(sequence[n:n+3]) == True:\n",
    "            proteinseq += gencode[sequence[n:n+3]]\n",
    "    print proteinseq\n",
    "\n",
    "\n",
    "#slicing using biopython- for testing\n",
    "f = open(\"/home/talha/Documents/tarfile.txt\", \"r\")\n",
    "for W in f:\n",
    "    i=W\n",
    "    \n",
    "f.close()\n",
    "i.split()\n",
    "exons = []\n",
    "for line in lines :\n",
    "    start = chain.seq.find(line.seq)\n",
    "    if(start > 0) :\n",
    "        print(\"Intron %s has been detected in %i position\" % (line.seq, start+1))\n",
    "        exons.append([chain.seq[last_start:start]])\n",
    "        last_start = start + len(line.seq)\n",
    "exons.append([chain.seq[last_start:]])\n",
    "\n",
    "otvet2=\"\"\n",
    "exons_seq = [' '.join([c.tostring() for c in lst]) for lst in exons]\n",
    "xz=\"\".join([otvet2+s for s in exons_seq])\n",
    "\n",
    "translate_dna(xz)"
   ]
  },
  {
   "cell_type": "code",
   "execution_count": 30,
   "metadata": {},
   "outputs": [
    {
     "name": "stdout",
     "output_type": "stream",
     "text": [
      "Help on method_descriptor:\n",
      "\n",
      "split(...)\n",
      "    S.split([sep [,maxsplit]]) -> list of strings\n",
      "    \n",
      "    Return a list of the words in the string S, using sep as the\n",
      "    delimiter string.  If maxsplit is given, at most maxsplit\n",
      "    splits are done. If sep is not specified or is None, any\n",
      "    whitespace string is a separator and empty strings are removed\n",
      "    from the result.\n",
      "\n"
     ]
    }
   ],
   "source": [
    "help(str.split)"
   ]
  },
  {
   "cell_type": "code",
   "execution_count": 16,
   "metadata": {
    "scrolled": true
   },
   "outputs": [
    {
     "name": "stdout",
     "output_type": "stream",
     "text": [
      "enter intron sequences :for stop enter (STOP)TATA\n",
      "enter intron sequences :for stop enter (STOP)SATA\n",
      "enter intron sequences :for stop enter (STOP)STOP\n",
      "LISTAA IS HERE : ['ATGGT', 'CTACA', 'GCTGACAAACATA']\n",
      "PROTEIN SEQUENCE: MVYSQT\n",
      "PROTEIN SEQUENCE: MVLTNIL\n",
      "PROTEIN SEQUENCE: LQWCQT\n",
      "PROTEIN SEQUENCE: LQLTNIM\n",
      "PROTEIN SEQUENCE: ADKHNGL\n",
      "PROTEIN SEQUENCE: ADKHTTM\n"
     ]
    }
   ],
   "source": [
    "from itertools import permutations \n",
    "flag=0\n",
    "\n",
    "f = open('/home/talha/Documents/tarfile.txt')\n",
    "for W in f:\n",
    "    seq=W\n",
    "    \n",
    "f.close() \n",
    "\n",
    "\n",
    "def translate_dna(sequence):\n",
    "    gencode = { 'ATA':'I',\n",
    "    'ATC':'I', 'ATT':'I', 'ATG':'M', 'ACA':'T', 'ACC':'T', 'ACG':'T',\n",
    "    'ACT':'T', 'AAC':'N', 'AAT':'N', 'AAA':'K', 'AAG':'K', 'AGC':'S',\n",
    "    'AGT':'S', 'AGA':'R', 'AGG':'R', 'CTA':'L', 'CTC':'L', 'CTG':'L',\n",
    "    'CTT':'L', 'CCA':'P', 'CCC':'P', 'CCG':'P', 'CCT':'P', 'CAC':'H',\n",
    "    'CAT':'H', 'CAA':'Q', 'CAG':'Q', 'CGA':'R', 'CGC':'R', 'CGG':'R',\n",
    "    'CGT':'R', 'GTA':'V', 'GTC':'V', 'GTG':'V', 'GTT':'V', 'GCA':'A',\n",
    "    'GCC':'A', 'GCG':'A', 'GCT':'A', 'GAC':'D', 'GAT':'D', 'GAA':'E',\n",
    "    'GAG':'E', 'GGA':'G', 'GGC':'G', 'GGG':'G', 'GGT':'G', 'TCA':'S',\n",
    "    'TCC':'S', 'TCG':'S', 'TCT':'S', 'TTC':'F', 'TTT':'F', 'TTA':'L',\n",
    "    'TTG':'L', 'TAC':'Y', 'TAT':'Y', 'TAA':'', 'TAG':'', 'TGC':'C',\n",
    "    'TGT':'C', 'TGA':'S', 'TGG':'T', }\n",
    "    #print sequence\n",
    "    proteinseq = ''\n",
    "\n",
    "    for n in range(0,len(sequence),3):\n",
    "        if gencode.has_key(sequence[n:n+3]) == True:\n",
    "            proteinseq += gencode[sequence[n:n+3]]\n",
    "    print 'PROTEIN SEQUENCE:',proteinseq    \n",
    "def delete_intron(intrn,seq_list):\n",
    "    LIST=[]\n",
    "    global flag\n",
    "    global seq\n",
    "    if flag==0:\n",
    "        j=seq.split(intrn)\n",
    "        flag=flag+1\n",
    "        return j\n",
    "    #print \"j: \", j\n",
    "    for i in seq_list:\n",
    "        K=i.split(intrn)\n",
    "        LIST.append(K)\n",
    "\n",
    "    lsst = []\n",
    "    #print \"LIST: \", LIST\n",
    "\n",
    "\n",
    "    for i in LIST:\n",
    "        for r in i:\n",
    "            lsst.append(r)\n",
    "    #print 'lst: ', lsst\n",
    "    return lsst\n",
    "  \n",
    "   \n",
    "    \n",
    "t = ''\n",
    "lst=[]\n",
    "list_full=[]\n",
    "while t!=\"STOP\":\n",
    "    t = raw_input(\"enter intron sequences :for stop enter (STOP)\")\n",
    "    if t!=\"STOP\":\n",
    "        lst.append(t)\n",
    "for s in lst:\n",
    "    list_full=delete_intron(s,list_full)\n",
    "\n",
    "    \n",
    "    \n",
    "leng=len(list_full)\n",
    "original = list_full[leng-1]\n",
    "strr=\"\"\n",
    "for i in range(0,len(original)-1):\n",
    "    strr=strr+original[i]\n",
    "del list_full[leng-1]\n",
    "list_full.append(strr)\n",
    "print 'LISTAA IS HERE :',list_full\n",
    "mRNA=[]    \n",
    "\n",
    "\n",
    "\n",
    "perm=permutations(list_full)\n",
    "final_seq_list=[]\n",
    "temp=''\n",
    "for p in perm:\n",
    "    #print p\n",
    "    for o in range(0,len(p)):\n",
    "        temp=temp+p[o]\n",
    "    mRNA.append(temp)\n",
    "    temp=\"\"\n",
    "    \n",
    "for s in range(0,len(mRNA)):\n",
    "    translate_dna(mRNA[s])\n"
   ]
  },
  {
   "cell_type": "code",
   "execution_count": 10,
   "metadata": {},
   "outputs": [
    {
     "name": "stdout",
     "output_type": "stream",
     "text": [
      "['ATGGTCTACAGCTGACAAACATA', 'ATGGTGCTGACAAACATACTACA', 'CTACAATGGTGCTGACAAACATA', 'CTACAGCTGACAAACATAATGGT', 'GCTGACAAACATAATGGTCTACA', 'GCTGACAAACATACTACAATGGT']\n"
     ]
    }
   ],
   "source": [
    "print mRNA\n"
   ]
  },
  {
   "cell_type": "code",
   "execution_count": 107,
   "metadata": {},
   "outputs": [
    {
     "name": "stdout",
     "output_type": "stream",
     "text": [
      "TTGCGCCTAG\n",
      "\n"
     ]
    }
   ],
   "source": [
    "leng=len(list_full)\n",
    "original = list_full[leng-1]\n",
    "print original"
   ]
  },
  {
   "cell_type": "code",
   "execution_count": 108,
   "metadata": {},
   "outputs": [
    {
     "data": {
      "text/plain": [
       "11"
      ]
     },
     "execution_count": 108,
     "metadata": {},
     "output_type": "execute_result"
    }
   ],
   "source": [
    "len(original)"
   ]
  },
  {
   "cell_type": "code",
   "execution_count": 115,
   "metadata": {},
   "outputs": [
    {
     "name": "stdout",
     "output_type": "stream",
     "text": [
      "T\n",
      "T\n",
      "G\n",
      "C\n",
      "G\n",
      "C\n",
      "C\n",
      "T\n",
      "A\n",
      "G\n",
      "TTGCGCCTAG\n",
      "10\n",
      "['ATGGT', 'CTACATAGCTGACAAACA', 'GTAGC', 'AATCGGTCGAATCTCGA', 'CATATGGTCACATGATCGGT', 'CGTGTTTCAA', 'TTGCGCCTAG']\n"
     ]
    }
   ],
   "source": [
    "strr=\"\"\n",
    "for i in range(0,len(original)-1):\n",
    "    print original[i]\n",
    "    strr=strr+original[i]\n",
    "print strr\n",
    "print (len(strr))\n",
    "del list_full[leng-1]\n",
    "list_full.append(strr)\n",
    "print list_full"
   ]
  },
  {
   "cell_type": "code",
   "execution_count": null,
   "metadata": {
    "collapsed": true
   },
   "outputs": [],
   "source": []
  }
 ],
 "metadata": {
  "kernelspec": {
   "display_name": "Python 3",
   "language": "python",
   "name": "python3"
  },
  "language_info": {
   "codemirror_mode": {
    "name": "ipython",
    "version": 3
   },
   "file_extension": ".py",
   "mimetype": "text/x-python",
   "name": "python",
   "nbconvert_exporter": "python",
   "pygments_lexer": "ipython3",
   "version": "3.6.8"
  }
 },
 "nbformat": 4,
 "nbformat_minor": 2
}
